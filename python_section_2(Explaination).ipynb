{
 "cells": [
  {
   "cell_type": "code",
   "execution_count": 1,
   "id": "b721d465-3a73-4fde-9fca-4526f6a9e36d",
   "metadata": {},
   "outputs": [],
   "source": [
    "import pandas as pd\n",
    "import numpy as np\n",
    "import datetime"
   ]
  },
  {
   "cell_type": "markdown",
   "id": "8e830c07-8747-4a1b-b49f-1341751f5211",
   "metadata": {},
   "source": [
    "# Q9"
   ]
  },
  {
   "cell_type": "code",
   "execution_count": 1,
   "id": "9a3957ff-3b2b-48ae-87be-b79239f8ab1a",
   "metadata": {},
   "outputs": [],
   "source": [
    "import pandas as pd  # Import pandas for data manipulation\n",
    "import numpy as np  # Import numpy for numerical operations\n",
    "\n",
    "def calculate_distance_matrix(df) -> pd.DataFrame:\n",
    "    # Define a function to calculate the distance matrix for toll IDs.\n",
    "\n",
    "    toll_ids = pd.concat([df['id_start'], df['id_end']]).unique()  \n",
    "    # Combine the 'id_start' and 'id_end' columns, and get all unique toll IDs from both columns.\n",
    "\n",
    "    distance_matrix = pd.DataFrame(np.inf, index=toll_ids, columns=toll_ids, dtype=float)  \n",
    "    # Create an empty distance matrix, initially filled with infinity values, where rows and columns are toll IDs.\n",
    "\n",
    "    np.fill_diagonal(distance_matrix.values, 0)  \n",
    "    # Set the diagonal values (distance from a toll ID to itself) to 0, because the distance from a point to itself is 0.\n",
    "\n",
    "    # Iterate through each row of the DataFrame to fill the distance matrix with actual distances.\n",
    "    for _, row in df.iterrows():  \n",
    "        # Loop through each row in the DataFrame.\n",
    "        \n",
    "        source = row['id_start']  # Get the start toll ID.\n",
    "        destination = row['id_end']  # Get the end toll ID.\n",
    "        distance = row['distance']  # Get the distance between the start and end toll IDs.\n",
    "\n",
    "        distance_matrix.at[source, destination] = distance  # Set the distance for the source -> destination direction.\n",
    "        distance_matrix.at[destination, source] = distance  # Set the distance for the destination -> source direction (undirected graph).\n",
    "\n",
    "    # Now apply the Floyd-Warshall algorithm to find the shortest path between all pairs of toll IDs.\n",
    "    for k in toll_ids:  # Loop through each toll ID (acting as an intermediate node).\n",
    "        for i in toll_ids:  # Loop through all toll IDs for the source.\n",
    "            for j in toll_ids:  # Loop through all toll IDs for the destination.\n",
    "                # If a shorter path from i to j exists through k, update the distance matrix.\n",
    "                if distance_matrix.at[i, j] > distance_matrix.at[i, k] + distance_matrix.at[k, j]:\n",
    "                    distance_matrix.at[i, j] = distance_matrix.at[i, k] + distance_matrix.at[k, j]\n",
    "\n",
    "    return distance_matrix  # Return the final distance matrix with shortest paths.\n",
    "\n"
   ]
  },
  {
   "cell_type": "code",
   "execution_count": 2,
   "id": "e832ad23-c29a-4250-95e6-44a6a09ecd68",
   "metadata": {},
   "outputs": [
    {
     "data": {
      "text/html": [
       "<div>\n",
       "<style scoped>\n",
       "    .dataframe tbody tr th:only-of-type {\n",
       "        vertical-align: middle;\n",
       "    }\n",
       "\n",
       "    .dataframe tbody tr th {\n",
       "        vertical-align: top;\n",
       "    }\n",
       "\n",
       "    .dataframe thead th {\n",
       "        text-align: right;\n",
       "    }\n",
       "</style>\n",
       "<table border=\"1\" class=\"dataframe\">\n",
       "  <thead>\n",
       "    <tr style=\"text-align: right;\">\n",
       "      <th></th>\n",
       "      <th>id_start</th>\n",
       "      <th>id_end</th>\n",
       "      <th>distance</th>\n",
       "    </tr>\n",
       "  </thead>\n",
       "  <tbody>\n",
       "    <tr>\n",
       "      <th>0</th>\n",
       "      <td>1001400</td>\n",
       "      <td>1001402</td>\n",
       "      <td>9.7</td>\n",
       "    </tr>\n",
       "    <tr>\n",
       "      <th>1</th>\n",
       "      <td>1001402</td>\n",
       "      <td>1001404</td>\n",
       "      <td>20.2</td>\n",
       "    </tr>\n",
       "    <tr>\n",
       "      <th>2</th>\n",
       "      <td>1001404</td>\n",
       "      <td>1001406</td>\n",
       "      <td>16.0</td>\n",
       "    </tr>\n",
       "    <tr>\n",
       "      <th>3</th>\n",
       "      <td>1001406</td>\n",
       "      <td>1001408</td>\n",
       "      <td>21.7</td>\n",
       "    </tr>\n",
       "    <tr>\n",
       "      <th>4</th>\n",
       "      <td>1001408</td>\n",
       "      <td>1001410</td>\n",
       "      <td>11.1</td>\n",
       "    </tr>\n",
       "  </tbody>\n",
       "</table>\n",
       "</div>"
      ],
      "text/plain": [
       "   id_start   id_end  distance\n",
       "0   1001400  1001402       9.7\n",
       "1   1001402  1001404      20.2\n",
       "2   1001404  1001406      16.0\n",
       "3   1001406  1001408      21.7\n",
       "4   1001408  1001410      11.1"
      ]
     },
     "execution_count": 2,
     "metadata": {},
     "output_type": "execute_result"
    }
   ],
   "source": [
    "df = pd.read_csv('dataset-2.csv')\n",
    "df.head()"
   ]
  },
  {
   "cell_type": "code",
   "execution_count": 3,
   "id": "ff111413-c573-4b0e-ba77-abb0fe24041c",
   "metadata": {},
   "outputs": [
    {
     "name": "stdout",
     "output_type": "stream",
     "text": [
      "Distance Matrix:\n",
      "         1001400  1001402  1001404  1001406  1001408  1001410  1001412  \\\n",
      "1001400      0.0      9.7     29.9     45.9     67.6     78.7     94.3   \n",
      "1001402      9.7      0.0     20.2     36.2     57.9     69.0     84.6   \n",
      "1001404     29.9     20.2      0.0     16.0     37.7     48.8     64.4   \n",
      "1001406     45.9     36.2     16.0      0.0     21.7     32.8     48.4   \n",
      "1001408     67.6     57.9     37.7     21.7      0.0     11.1     26.7   \n",
      "\n",
      "         1001414  1001416  1001418  ...  1001458  1001460  1001461  1001462  \\\n",
      "1001400    112.5    125.7    139.3  ...    348.8    353.9    366.7    371.8   \n",
      "1001402    102.8    116.0    129.6  ...    339.1    344.2    357.0    362.1   \n",
      "1001404     82.6     95.8    109.4  ...    318.9    324.0    336.8    341.9   \n",
      "1001406     66.6     79.8     93.4  ...    302.9    308.0    320.8    325.9   \n",
      "1001408     44.9     58.1     71.7  ...    281.2    286.3    299.1    304.2   \n",
      "\n",
      "         1001464  1001466  1001468  1001470  1001437  1001472  \n",
      "1001400    398.5    407.0    417.7    428.3    242.1    444.3  \n",
      "1001402    388.8    397.3    408.0    418.6    232.4    434.6  \n",
      "1001404    368.6    377.1    387.8    398.4    212.2    414.4  \n",
      "1001406    352.6    361.1    371.8    382.4    196.2    398.4  \n",
      "1001408    330.9    339.4    350.1    360.7    174.5    376.7  \n",
      "\n",
      "[5 rows x 43 columns]\n"
     ]
    }
   ],
   "source": [
    "distance_matrix = calculate_distance_matrix(df)\n",
    "print(\"Distance Matrix:\")\n",
    "print(distance_matrix.head())"
   ]
  },
  {
   "cell_type": "markdown",
   "id": "878bdac0-e6f9-4378-abc6-a0b7437deb8d",
   "metadata": {},
   "source": [
    "# Q10"
   ]
  },
  {
   "cell_type": "code",
   "execution_count": 4,
   "id": "cc1fb930-367b-454e-9a15-3b5b9313ba48",
   "metadata": {},
   "outputs": [],
   "source": [
    "import pandas as pd  # Import pandas for data manipulation\n",
    "\n",
    "def unroll_distance_matrix(df) -> pd.DataFrame:\n",
    "    # Define a function to \"unroll\" the distance matrix into a long format (flattening it).\n",
    "\n",
    "    unrolled_data = []  # Create an empty list to store the unrolled data.\n",
    "\n",
    "    # Loop through each row (id_start) in the DataFrame.\n",
    "    for id_start in df.index:\n",
    "        # Loop through each column (id_end) in the DataFrame.\n",
    "        for id_end in df.columns:\n",
    "            # Skip if the start and end IDs are the same (no need to include distances for the same toll ID).\n",
    "            if id_start != id_end:\n",
    "                distance = df.at[id_start, id_end]  # Get the distance value for the pair (id_start, id_end).\n",
    "                unrolled_data.append([id_start, id_end, distance])  # Append the data as a list to the unrolled_data list.\n",
    "\n",
    "    # Convert the unrolled_data list into a DataFrame with columns: 'id_start', 'id_end', and 'distance'.\n",
    "    unrolled_df = pd.DataFrame(unrolled_data, columns=['id_start', 'id_end', 'distance'])\n",
    "\n",
    "    return unrolled_df  # Return the unrolled DataFrame.\n"
   ]
  },
  {
   "cell_type": "code",
   "execution_count": 5,
   "id": "d0cb34fb-1c97-4460-b448-6764c6cdf5ae",
   "metadata": {},
   "outputs": [
    {
     "name": "stdout",
     "output_type": "stream",
     "text": [
      "\n",
      "Unrolled Distance Matrix:\n",
      "      id_start   id_end  distance\n",
      "0      1001400  1001402       9.7\n",
      "1      1001400  1001404      29.9\n",
      "2      1001400  1001406      45.9\n",
      "3      1001400  1001408      67.6\n",
      "4      1001400  1001410      78.7\n",
      "...        ...      ...       ...\n",
      "1801   1001472  1001464      45.8\n",
      "1802   1001472  1001466      37.3\n",
      "1803   1001472  1001468      26.6\n",
      "1804   1001472  1001470      16.0\n",
      "1805   1001472  1001437     202.2\n",
      "\n",
      "[1806 rows x 3 columns]\n"
     ]
    }
   ],
   "source": [
    "unrolled_df = unroll_distance_matrix(distance_matrix)\n",
    "print(\"\\nUnrolled Distance Matrix:\")\n",
    "print(unrolled_df)"
   ]
  },
  {
   "cell_type": "markdown",
   "id": "6878fbee-6a19-41cc-86db-a7e7aec6a05e",
   "metadata": {},
   "source": [
    "# Q11"
   ]
  },
  {
   "cell_type": "code",
   "execution_count": 6,
   "id": "362e4ee2-c0d2-47fe-a34a-7aa347d599ba",
   "metadata": {},
   "outputs": [],
   "source": [
    "import pandas as pd  # Import pandas for data manipulation\n",
    "\n",
    "def find_ids_within_ten_percentage_threshold(df, reference_id) -> pd.DataFrame:\n",
    "    # Define a function to find toll IDs whose average distance is within 10% of a reference toll ID.\n",
    "\n",
    "    # Calculate the average distance for the reference_id (distance of all rows where id_start equals reference_id).\n",
    "    reference_avg_distance = df[df['id_start'] == reference_id]['distance'].mean()\n",
    "    \n",
    "    # Define the floor and ceiling thresholds (±10% of the reference average distance).\n",
    "    threshold_floor = reference_avg_distance * 0.9\n",
    "    threshold_ceiling = reference_avg_distance * 1.1 \n",
    "    \n",
    "    matching_ids = []  # Create an empty list to store matching toll IDs.\n",
    "    \n",
    "    # Loop through each unique toll ID (id_start) in the DataFrame.\n",
    "    for id_start in df['id_start'].unique():\n",
    "        # Calculate the average distance for each toll ID.\n",
    "        avg_distance = df[df['id_start'] == id_start]['distance'].mean()\n",
    "        \n",
    "        # Check if the average distance is within the ±10% range of the reference toll ID's average distance.\n",
    "        if threshold_floor <= avg_distance <= threshold_ceiling:\n",
    "            matching_ids.append(id_start)  # Add the matching ID to the list.\n",
    "\n",
    "    return sorted(matching_ids)  # Return the list of matching toll IDs, sorted in ascending order.\n"
   ]
  },
  {
   "cell_type": "code",
   "execution_count": 7,
   "id": "033b1dfe-6190-4b8f-b854-fccc103644ca",
   "metadata": {},
   "outputs": [
    {
     "name": "stdout",
     "output_type": "stream",
     "text": [
      "\n",
      "IDs within 10% of average distance for reference ID 1001416:\n",
      "[1001414, 1001416, 1001418, 1001458, 1001460, 1001461, 1001462]\n"
     ]
    }
   ],
   "source": [
    "reference_id = 1001416\n",
    "ids_within_threshold = find_ids_within_ten_percentage_threshold(unrolled_df, reference_id)\n",
    "print(\"\\nIDs within 10% of average distance for reference ID {}:\".format(reference_id))\n",
    "print(ids_within_threshold)"
   ]
  },
  {
   "cell_type": "markdown",
   "id": "4cb305a6-9e02-42ce-ac5d-c46a9179775b",
   "metadata": {},
   "source": [
    "# Q12"
   ]
  },
  {
   "cell_type": "code",
   "execution_count": 8,
   "id": "719242a3-e411-45e3-ab79-343ba368bd83",
   "metadata": {},
   "outputs": [],
   "source": [
    "import pandas as pd  # Import pandas for data manipulation\n",
    "\n",
    "def calculate_toll_rate(df) -> pd.DataFrame:\n",
    "    # Define a function to calculate toll rates for different vehicle types based on distance.\n",
    "\n",
    "    df['moto'] = df['distance'] * 0.8  # Calculate toll rate for motorcycles (distance * 0.8).\n",
    "    df['car'] = df['distance'] * 1.2    # Calculate toll rate for cars (distance * 1.2).\n",
    "    df['rv'] = df['distance'] * 1.5     # Calculate toll rate for RVs (distance * 1.5).\n",
    "    df['bus'] = df['distance'] * 2.2    # Calculate toll rate for buses (distance * 2.2).\n",
    "    df['truck'] = df['distance'] * 3.6  # Calculate toll rate for trucks (distance * 3.6).\n",
    "\n",
    "    return df  # Return the DataFrame with the new toll rate columns.\n"
   ]
  },
  {
   "cell_type": "code",
   "execution_count": 9,
   "id": "b7df4c0c-2b8b-4622-9284-780abaad124c",
   "metadata": {},
   "outputs": [
    {
     "name": "stdout",
     "output_type": "stream",
     "text": [
      "\n",
      "Toll Rates:\n",
      "      id_start   id_end  distance    moto     car      rv     bus   truck\n",
      "0      1001400  1001402       9.7    7.76   11.64   14.55   21.34   34.92\n",
      "1      1001400  1001404      29.9   23.92   35.88   44.85   65.78  107.64\n",
      "2      1001400  1001406      45.9   36.72   55.08   68.85  100.98  165.24\n",
      "3      1001400  1001408      67.6   54.08   81.12  101.40  148.72  243.36\n",
      "4      1001400  1001410      78.7   62.96   94.44  118.05  173.14  283.32\n",
      "...        ...      ...       ...     ...     ...     ...     ...     ...\n",
      "1801   1001472  1001464      45.8   36.64   54.96   68.70  100.76  164.88\n",
      "1802   1001472  1001466      37.3   29.84   44.76   55.95   82.06  134.28\n",
      "1803   1001472  1001468      26.6   21.28   31.92   39.90   58.52   95.76\n",
      "1804   1001472  1001470      16.0   12.80   19.20   24.00   35.20   57.60\n",
      "1805   1001472  1001437     202.2  161.76  242.64  303.30  444.84  727.92\n",
      "\n",
      "[1806 rows x 8 columns]\n"
     ]
    }
   ],
   "source": [
    "toll_df = calculate_toll_rate(unrolled_df)\n",
    "print(\"\\nToll Rates:\")\n",
    "print(toll_df)"
   ]
  },
  {
   "cell_type": "markdown",
   "id": "7cb04b17-9218-4c5b-85db-305c43ab1cf9",
   "metadata": {},
   "source": [
    "# Q13"
   ]
  },
  {
   "cell_type": "code",
   "execution_count": 10,
   "id": "f9364f74-86f7-4a87-a699-7e1e4b49b16a",
   "metadata": {},
   "outputs": [],
   "source": [
    "import pandas as pd  # Import pandas for data manipulation\n",
    "import datetime  # Import datetime to handle time objects\n",
    "\n",
    "def calculate_time_based_toll_rates(df) -> pd.DataFrame:\n",
    "    # Define a function to calculate toll rates based on time of day and day of the week.\n",
    "\n",
    "    days = ['Monday', 'Tuesday', 'Wednesday', 'Thursday', 'Friday', 'Saturday', 'Sunday']  # List of days in a week\n",
    "    time_ranges = [\n",
    "        # Define time ranges and corresponding toll rate multiplier for weekdays\n",
    "        (datetime.time(0, 0), datetime.time(10, 0), 0.8),   # From midnight to 10:00 AM, 0.8 multiplier\n",
    "        (datetime.time(10, 0), datetime.time(18, 0), 1.2),  # From 10:00 AM to 6:00 PM, 1.2 multiplier\n",
    "        (datetime.time(18, 0), datetime.time(23, 59, 59), 0.8)  # From 6:00 PM to midnight, 0.8 multiplier\n",
    "    ]\n",
    "\n",
    "    new_rows = []  # Create an empty list to store the new rows with time-based toll rates\n",
    "\n",
    "    # Loop through each row in the DataFrame to apply the time-based toll rates\n",
    "    for _, row in df.iterrows():\n",
    "        for day in days:  # Loop through each day of the week\n",
    "            for start_time, end_time, weekday_discount in time_ranges:  # Loop through each time range\n",
    "                new_row = row.copy()  # Create a copy of the current row to avoid modifying the original\n",
    "\n",
    "                # Assign the current day to the 'start_day' and 'end_day' columns\n",
    "                new_row['start_day'] = day\n",
    "                new_row['end_day'] = day\n",
    "                \n",
    "                # Assign the current time range to the 'start_time' and 'end_time' columns\n",
    "                new_row['start_time'] = start_time\n",
    "                new_row['end_time'] = end_time\n",
    "\n",
    "                # Apply a discount based on whether the day is a weekend or a weekday\n",
    "                if day in ['Saturday', 'Sunday']:  # Apply a weekend discount\n",
    "                    discount = 0.7  # 30% discount for weekends\n",
    "                else:  # Apply the weekday discount based on the time range\n",
    "                    discount = weekday_discount\n",
    "\n",
    "                # Loop through each vehicle type and apply the corresponding discount\n",
    "                for vehicle in ['moto', 'car', 'rv', 'bus', 'truck']:\n",
    "                    new_row[vehicle] *= discount  # Multiply the vehicle toll by the discount\n",
    "\n",
    "                # Convert 'id_start' and 'id_end' to integers (in case they are not already)\n",
    "                new_row['id_start'] = int(new_row['id_start'])\n",
    "                new_row['id_end'] = int(new_row['id_end'])\n",
    "                \n",
    "                # Append the modified row to the list of new rows\n",
    "                new_rows.append(new_row)\n",
    "\n",
    "    # Convert the list of new rows into a DataFrame\n",
    "    result_df = pd.DataFrame(new_rows)\n",
    "\n",
    "    # Reorganize the columns in the desired order\n",
    "    result_df = result_df[['id_start', 'start_time', 'start_day', 'id_end', 'end_time', 'end_day', 'distance', 'moto', 'car', 'rv', 'bus', 'truck']]\n",
    "    \n",
    "    return result_df  # Return the final DataFrame with time-based toll rates\n"
   ]
  },
  {
   "cell_type": "code",
   "execution_count": 11,
   "id": "8d4503a1-faa6-4974-b5ea-4a9af5d0931b",
   "metadata": {},
   "outputs": [
    {
     "name": "stdout",
     "output_type": "stream",
     "text": [
      "\n",
      "Time-Based Toll Rates:\n",
      "      id_start start_time start_day   id_end  end_time   end_day  distance  \\\n",
      "0      1001400   00:00:00    Monday  1001402  10:00:00    Monday       9.7   \n",
      "0      1001400   10:00:00    Monday  1001402  18:00:00    Monday       9.7   \n",
      "0      1001400   18:00:00    Monday  1001402  23:59:59    Monday       9.7   \n",
      "0      1001400   00:00:00   Tuesday  1001402  10:00:00   Tuesday       9.7   \n",
      "0      1001400   10:00:00   Tuesday  1001402  18:00:00   Tuesday       9.7   \n",
      "...        ...        ...       ...      ...       ...       ...       ...   \n",
      "1805   1001472   10:00:00  Saturday  1001437  18:00:00  Saturday     202.2   \n",
      "1805   1001472   18:00:00  Saturday  1001437  23:59:59  Saturday     202.2   \n",
      "1805   1001472   00:00:00    Sunday  1001437  10:00:00    Sunday     202.2   \n",
      "1805   1001472   10:00:00    Sunday  1001437  18:00:00    Sunday     202.2   \n",
      "1805   1001472   18:00:00    Sunday  1001437  23:59:59    Sunday     202.2   \n",
      "\n",
      "         moto      car      rv      bus    truck  \n",
      "0       6.208    9.312   11.64   17.072   27.936  \n",
      "0       9.312   13.968   17.46   25.608   41.904  \n",
      "0       6.208    9.312   11.64   17.072   27.936  \n",
      "0       6.208    9.312   11.64   17.072   27.936  \n",
      "0       9.312   13.968   17.46   25.608   41.904  \n",
      "...       ...      ...     ...      ...      ...  \n",
      "1805  113.232  169.848  212.31  311.388  509.544  \n",
      "1805  113.232  169.848  212.31  311.388  509.544  \n",
      "1805  113.232  169.848  212.31  311.388  509.544  \n",
      "1805  113.232  169.848  212.31  311.388  509.544  \n",
      "1805  113.232  169.848  212.31  311.388  509.544  \n",
      "\n",
      "[37926 rows x 12 columns]\n"
     ]
    }
   ],
   "source": [
    "time_based_toll_df = calculate_time_based_toll_rates(toll_df)\n",
    "print(\"\\nTime-Based Toll Rates:\")\n",
    "print(time_based_toll_df)"
   ]
  },
  {
   "cell_type": "code",
   "execution_count": null,
   "id": "88ca56e5-d2ba-494c-b3d0-e05b39c9d2b9",
   "metadata": {},
   "outputs": [],
   "source": []
  }
 ],
 "metadata": {
  "kernelspec": {
   "display_name": "Python 3 (ipykernel)",
   "language": "python",
   "name": "python3"
  },
  "language_info": {
   "codemirror_mode": {
    "name": "ipython",
    "version": 3
   },
   "file_extension": ".py",
   "mimetype": "text/x-python",
   "name": "python",
   "nbconvert_exporter": "python",
   "pygments_lexer": "ipython3",
   "version": "3.11.7"
  }
 },
 "nbformat": 4,
 "nbformat_minor": 5
}
