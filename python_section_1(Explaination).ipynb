{
 "cells": [
  {
   "cell_type": "code",
   "execution_count": 1,
   "id": "852f62aa-079b-412e-8c26-3fd7f697a9b3",
   "metadata": {},
   "outputs": [],
   "source": [
    "from typing import Dict, List\n",
    "import pandas as pd\n",
    "import re\n",
    "import polyline\n",
    "from math import radians, sin, cos, sqrt, atan2"
   ]
  },
  {
   "cell_type": "markdown",
   "id": "1be3ea0f-cc65-47f9-b34b-05677f2cb007",
   "metadata": {},
   "source": [
    "# Q1\n"
   ]
  },
  {
   "cell_type": "code",
   "execution_count": 2,
   "id": "11e8ffa3-e291-45e3-b0fd-fa7e20b19f53",
   "metadata": {},
   "outputs": [
    {
     "name": "stdout",
     "output_type": "stream",
     "text": [
      "[3, 2, 1, 6, 5, 4, 8, 7]\n",
      "[2, 1, 4, 3, 5]\n",
      "[40, 30, 20, 10, 70, 60, 50]\n"
     ]
    }
   ],
   "source": [
    "from typing import List  # Import List type from typing module for type hints\n",
    "\n",
    "def reverse_by_n_elements(lst: List[int], n: int) -> List[int]:  \n",
    "    # Define a function that takes a list of integers `lst` and an integer `n` \n",
    "    # as input, and returns a modified list where every `n` elements are reversed.\n",
    "\n",
    "    result = []  # Initialize an empty list to store the result after reversing\n",
    "\n",
    "    for i in range(0, len(lst), n):  \n",
    "        # Loop over the list with a step of `n`, where `i` represents the start index \n",
    "        # of each group of `n` elements.\n",
    "\n",
    "        temp = []  # Initialize a temporary list to hold the reversed elements of the current group\n",
    "\n",
    "        for j in range(min(n, len(lst) - i)):  \n",
    "            # Inner loop runs `min(n, remaining_elements)` times to handle the last group,\n",
    "            # where `remaining_elements` is calculated as `len(lst) - i`.\n",
    "\n",
    "            temp.insert(0, lst[i + j])  \n",
    "            # Insert each element at the beginning of `temp` to reverse the order \n",
    "            # of the group as we add it.\n",
    "\n",
    "        result.extend(temp)  \n",
    "        # Add the reversed group `temp` to the `result` list\n",
    "\n",
    "    lst[:] = result  \n",
    "    # Update the original list `lst` with the contents of `result`\n",
    "\n",
    "    return lst  \n",
    "    # Return the modified list with every `n` elements reversed.\n",
    "\n",
    "# Test cases to check the function's behavior\n",
    "print(reverse_by_n_elements([1, 2, 3, 4, 5, 6, 7, 8], 3))  # Expected output: [3, 2, 1, 6, 5, 4, 8, 7]\n",
    "print(reverse_by_n_elements([1, 2, 3, 4, 5], 2))           # Expected output: [2, 1, 4, 3, 5]\n",
    "print(reverse_by_n_elements([10, 20, 30, 40, 50, 60, 70], 4))  # Expected output: [40, 30, 20, 10, 70, 60, 50]\n"
   ]
  },
  {
   "cell_type": "markdown",
   "id": "effa43c2-d227-4e44-992c-adf6c125c21c",
   "metadata": {},
   "source": [
    "# Q2"
   ]
  },
  {
   "cell_type": "code",
   "execution_count": 1,
   "id": "c694e4da-8d49-4e01-863a-e9fa2ac18658",
   "metadata": {},
   "outputs": [
    {
     "name": "stdout",
     "output_type": "stream",
     "text": [
      "{3: ['bat', 'car', 'dog'], 4: ['bear'], 5: ['apple'], 8: ['elephant']}\n",
      "{3: ['one', 'two'], 4: ['four'], 5: ['three']}\n"
     ]
    }
   ],
   "source": [
    "from typing import List, Dict  # Import List and Dict types from typing module for type hints\n",
    "\n",
    "def group_by_length(lst: List[str]) -> Dict[int, List[str]]:\n",
    "    # Define a function that takes a list of strings `lst` as input\n",
    "    # and returns a dictionary grouping the strings by their lengths.\n",
    "\n",
    "    length_dict = {}  # Initialize an empty dictionary to hold groups of strings by length\n",
    "\n",
    "    for string in lst:  \n",
    "        # Loop through each string in the input list `lst`\n",
    "\n",
    "        length = len(string)  \n",
    "        # Calculate the length of the current string\n",
    "\n",
    "        if length not in length_dict:  \n",
    "            # Check if this length is not already a key in `length_dict`\n",
    "\n",
    "            length_dict[length] = []  \n",
    "            # If not, create a new key for this length with an empty list as the value\n",
    "\n",
    "        length_dict[length].append(string)  \n",
    "        # Append the current string to the list associated with its length in `length_dict`\n",
    "\n",
    "    dict = {k: length_dict[k] for k in sorted(length_dict)}  \n",
    "    # Create a new dictionary with keys sorted by length for ordered output\n",
    "\n",
    "    return dict  \n",
    "    # Return the final dictionary with strings grouped by length\n",
    "\n",
    "# Sample lists to test the function\n",
    "lst1 = [\"apple\", \"bat\", \"car\", \"elephant\", \"dog\", \"bear\"]\n",
    "lst2 = [\"one\", \"two\", \"three\", \"four\"]\n",
    "\n",
    "print(group_by_length(lst1))  # Expected output: {3: ['bat', 'car', 'dog'], 4: ['bear'], 5: ['apple'], 8: ['elephant']}\n",
    "print(group_by_length(lst2))  # Expected output: {3: ['one', 'two'], 4: ['four'], 5: ['three']}\n"
   ]
  },
  {
   "cell_type": "markdown",
   "id": "b6da4392-e06f-456d-af81-1427d6769cd3",
   "metadata": {},
   "source": [
    "# Q3"
   ]
  },
  {
   "cell_type": "code",
   "execution_count": 4,
   "id": "9a143f55-ed5b-4d85-a19f-96d9705ae641",
   "metadata": {},
   "outputs": [
    {
     "name": "stdout",
     "output_type": "stream",
     "text": [
      "{'road.name': 'Highway 1', 'road.length': 350, 'road.sections[0].id': 1, 'road.sections[0].condition.pavement': 'good', 'road.sections[0].condition.traffic': 'moderate'}\n"
     ]
    }
   ],
   "source": [
    "from typing import Dict  # Import Dict type from typing module for type hints\n",
    "\n",
    "def flatten_dict(nested_dict: Dict, sep: str = '.') -> Dict:\n",
    "    # Define a function to flatten a nested dictionary.\n",
    "    # `nested_dict` is the input dictionary to flatten, and `sep` is the separator\n",
    "    # used between nested keys in the flattened dictionary.\n",
    "\n",
    "    dict_result = {}  # Initialize an empty dictionary to store the flattened results\n",
    "    stack = [(nested_dict, '')]  # Initialize a stack with the initial dictionary and an empty parent key\n",
    "\n",
    "    while stack:  # Process items in the stack until it's empty\n",
    "        curr_dict, parent_key = stack.pop()  # Pop the top item, getting the current dictionary and parent key path\n",
    "\n",
    "        if isinstance(curr_dict, dict):  # Check if the current item is a dictionary\n",
    "            for key, value in curr_dict.items():  # Iterate over key-value pairs in the dictionary\n",
    "                new_key = f\"{parent_key}{sep}{key}\" if parent_key else key  \n",
    "                # Construct a new key by appending the current key to the parent key, separated by `sep`\n",
    "                \n",
    "                if isinstance(value, dict):  # If the value is a dictionary, add it to the stack for further flattening\n",
    "                    stack.append((value, new_key))\n",
    "                elif isinstance(value, list):  # If the value is a list, iterate over each item with its index\n",
    "                    for i, item in enumerate(value):\n",
    "                        stack.append((item, f\"{new_key}[{i}]\"))\n",
    "                        # Add each item in the list to the stack with the indexed key\n",
    "                else:\n",
    "                    dict_result[new_key] = value  # For other types, store the value in the flattened dictionary\n",
    "        elif isinstance(curr_dict, list):  # Check if the current item is a list\n",
    "            for i, item in enumerate(curr_dict):  # Iterate over each item in the list\n",
    "                stack.append((item, f\"{parent_key}[{i}]\"))  # Add each item with its indexed key to the stack\n",
    "\n",
    "    return dict_result  # Return the fully flattened dictionary\n",
    "\n",
    "# Sample nested dictionary to test the function\n",
    "nested_dict = {\n",
    "     \"road\": {\n",
    "         \"name\": \"Highway 1\",\n",
    "         \"length\": 350,\n",
    "         \"sections\": [\n",
    "              {\n",
    "                 \"id\": 1,\n",
    "                   \"condition\": {\n",
    "                      \"pavement\": \"good\",\n",
    "                      \"traffic\": \"moderate\"\n",
    "                   }\n",
    "             }\n",
    "        ]\n",
    "     }\n",
    " }\n",
    "\n",
    "flattened_dict = flatten_dict(nested_dict)\n",
    "# Expected output: a flattened dictionary where nested keys are represented by a single string path\n",
    "print(flattened_dict)\n",
    "# Example output:\n",
    "# {\n",
    "#     \"road.name\": \"Highway 1\",\n",
    "#     \"road.length\": 350,\n",
    "#     \"road.sections[0].id\": 1,\n",
    "#     \"road.sections[0].condition.pavement\": \"good\",\n",
    "#     \"road.sections[0].condition.traffic\": \"moderate\"\n",
    "# }\n"
   ]
  },
  {
   "cell_type": "markdown",
   "id": "47e103e9-dcdb-4813-b639-791e9a91f118",
   "metadata": {},
   "source": [
    "# Q4"
   ]
  },
  {
   "cell_type": "code",
   "execution_count": 7,
   "id": "1ce4d9ad-2f92-4794-8317-2f34348b996b",
   "metadata": {},
   "outputs": [
    {
     "name": "stdout",
     "output_type": "stream",
     "text": [
      "[[1, 1, 2], [1, 2, 1], [2, 1, 1]]\n"
     ]
    }
   ],
   "source": [
    "from typing import List  # Import List type from typing module for type hints\n",
    "\n",
    "def unique_permutations(nums: List[int]) -> List[List[int]]:\n",
    "    # Define a function to generate all unique permutations of a list of integers.\n",
    "    # `nums` is the input list of integers that may contain duplicates.\n",
    "\n",
    "    nums.sort()  # Sort `nums` to make it easier to avoid duplicates in permutations\n",
    "    result = []  # Initialize an empty list to store unique permutations\n",
    "    used = [False] * len(nums)  # Track which elements are used in the current permutation path\n",
    "\n",
    "    def backtrack(path):\n",
    "        # Define a recursive helper function `backtrack` that builds permutations step-by-step.\n",
    "        # `path` stores the current permutation being built.\n",
    "\n",
    "        if len(path) == len(nums):  # Check if the current permutation is complete\n",
    "            result.append(path[:])  # Add a copy of the current path to the result list\n",
    "            return  # End the current recursion as the permutation is complete\n",
    "\n",
    "        for i in range(len(nums)):  # Loop through all indices in `nums`\n",
    "            if used[i]:  # Skip if the current element is already used in the path\n",
    "                continue\n",
    "\n",
    "            # Avoid duplicates by skipping elements that are the same as the previous\n",
    "            # element if the previous one has not been used in the current path\n",
    "            if i > 0 and nums[i] == nums[i - 1] and not used[i - 1]:\n",
    "                continue\n",
    "\n",
    "            used[i] = True  # Mark the current element as used\n",
    "            path.append(nums[i])  # Add the current element to the path\n",
    "            backtrack(path)  # Recursively build the next level of the permutation\n",
    "            path.pop()  # Remove the last element to backtrack\n",
    "            used[i] = False  # Mark the current element as unused for the next iteration\n",
    "\n",
    "    backtrack([])  # Start the backtracking process with an empty path\n",
    "    return result  # Return the list of unique permutations\n",
    "\n",
    "# Test case with duplicates to verify the function outputs unique permutations\n",
    "output = unique_permutations([1, 1, 2])\n",
    "print(output)\n",
    "# Expected output: [[1, 1, 2], [1, 2, 1], [2, 1, 1]]\n"
   ]
  },
  {
   "cell_type": "markdown",
   "id": "5b6974b1-249c-4812-b989-fab194b7875d",
   "metadata": {},
   "source": [
    "# Q5"
   ]
  },
  {
   "cell_type": "code",
   "execution_count": 8,
   "id": "0eef7fcf-d7ab-4c7a-8533-f762c880de1e",
   "metadata": {},
   "outputs": [
    {
     "name": "stdout",
     "output_type": "stream",
     "text": [
      "['23-08-1994', '08/23/1994', '1994.08.23']\n"
     ]
    }
   ],
   "source": [
    "import re  # Import the regular expressions library to use regex functions\n",
    "\n",
    "from typing import List  # Import List type from typing module for type hints\n",
    "\n",
    "def find_all_dates(text: str) -> List[str]:\n",
    "    # Define a function to find all date occurrences in a given text.\n",
    "    # The dates can be in multiple formats such as DD-MM-YYYY, DD/MM/YYYY, or YYYY.MM.DD.\n",
    "\n",
    "    date_formats = [\n",
    "        r'\\b\\d{2}-\\d{2}-\\d{4}\\b',  # Regex pattern for dates in DD-MM-YYYY format\n",
    "        r'\\b\\d{2}/\\d{2}/\\d{4}\\b',  # Regex pattern for dates in DD/MM/YYYY format\n",
    "        r'\\b\\d{4}\\.\\d{2}\\.\\d{2}\\b'  # Regex pattern for dates in YYYY.MM.DD format\n",
    "    ]\n",
    "\n",
    "    combined_formats = '|'.join(date_formats)  \n",
    "    # Combine the individual date format patterns into a single regex pattern\n",
    "    # using the '|' (OR) operator to match any of the date formats\n",
    "\n",
    "    result = re.findall(combined_formats, text)  \n",
    "    # Use `re.findall` to search for all matches of `combined_formats` in the `text`\n",
    "    # and return them as a list of strings\n",
    "\n",
    "    return result  # Return the list of all matched dates in the text\n",
    "\n",
    "# Sample text to test the function\n",
    "print(find_all_dates(\"I was born on 23-08-1994, my friend on 08/23/1994, and another one on 1994.08.23.\"))\n",
    "# Expected output: ['23-08-1994', '08/23/1994', '1994.08.23']\n"
   ]
  },
  {
   "cell_type": "markdown",
   "id": "846af489-c945-4cfd-b233-5c97172d5537",
   "metadata": {},
   "source": [
    "# Q6"
   ]
  },
  {
   "cell_type": "code",
   "execution_count": 9,
   "id": "34ba2201-6796-4720-853c-ccdcc43cf848",
   "metadata": {},
   "outputs": [
    {
     "name": "stdout",
     "output_type": "stream",
     "text": [
      "   latitude  longitude       distance\n",
      "0    38.500   -120.200       0.000000\n",
      "1    40.700   -120.950  252924.435162\n",
      "2    43.252   -126.453  535981.434984\n"
     ]
    }
   ],
   "source": [
    "import pandas as pd  # Import the pandas library for data manipulation\n",
    "from math import radians, sin, cos, sqrt, atan2  # Import math functions for distance calculation\n",
    "import polyline  # Import the polyline module to decode the polyline string\n",
    "\n",
    "def polyline_to_dataframe(polyline_str: str) -> pd.DataFrame:\n",
    "    # Define a function that converts a polyline string into a pandas DataFrame\n",
    "    # with latitude, longitude, and distance between each pair of points.\n",
    "\n",
    "    coords = polyline.decode(polyline_str)  \n",
    "    # Decode the polyline string to get a list of (latitude, longitude) tuples.\n",
    "\n",
    "    df = pd.DataFrame(coords, columns=['latitude', 'longitude'])  \n",
    "    # Create a DataFrame from the decoded coordinates with 'latitude' and 'longitude' columns.\n",
    "\n",
    "    df['distance'] = 0.0  \n",
    "    # Add a 'distance' column initialized to 0.0 to store distances between points.\n",
    "\n",
    "    for i in range(1, len(df)):  \n",
    "        # Loop through each point in the DataFrame, starting from the second point.\n",
    "\n",
    "        lat1, lon1 = df.loc[i-1, 'latitude'], df.loc[i-1, 'longitude']  \n",
    "        # Get the latitude and longitude of the previous point.\n",
    "\n",
    "        lat2, lon2 = df.loc[i, 'latitude'], df.loc[i, 'longitude']  \n",
    "        # Get the latitude and longitude of the current point.\n",
    "\n",
    "        lat1, lon1, lat2, lon2 = map(radians, [lat1, lon1, lat2, lon2])  \n",
    "        # Convert the latitude and longitude values to radians for trigonometric calculations.\n",
    "\n",
    "        dlat = lat2 - lat1  # Calculate the difference in latitude.\n",
    "        dlon = lon2 - lon1  # Calculate the difference in longitude.\n",
    "\n",
    "        a = sin(dlat / 2)**2 + cos(lat1) * cos(lat2) * sin(dlon / 2)**2  \n",
    "        # Apply the Haversine formula to calculate the square of half the chord length between points.\n",
    "\n",
    "        c = 2 * atan2(sqrt(a), sqrt(1 - a))  \n",
    "        # Calculate the angular distance in radians using the arctangent of the square root of 'a'.\n",
    "\n",
    "        r = 6371000  # Earth's radius in meters\n",
    "        df.loc[i, 'distance'] = r * c  # Calculate the distance and store it in the 'distance' column for the current point.\n",
    "\n",
    "    return df  # Return the DataFrame with latitude, longitude, and calculated distances.\n",
    "\n",
    "# Test the function with a sample polyline string\n",
    "print(polyline_to_dataframe(\"_p~iF~ps|U_ulLnnqC_mqNvxq`@\"))\n",
    "# Expected output: a DataFrame with 'latitude', 'longitude', and 'distance' columns,\n",
    "# showing distances between consecutive points along the polyline path.\n"
   ]
  },
  {
   "cell_type": "markdown",
   "id": "2127df09-d845-401e-a680-d4f8a64796de",
   "metadata": {},
   "source": [
    "# Q7"
   ]
  },
  {
   "cell_type": "code",
   "execution_count": 13,
   "id": "7bc00214-26c8-4550-a3dd-e040bc170930",
   "metadata": {},
   "outputs": [
    {
     "name": "stdout",
     "output_type": "stream",
     "text": [
      "final_matrix = [[22, 19, 16], [23, 20, 17], [24, 21, 18]]\n"
     ]
    }
   ],
   "source": [
    "from typing import List  # Import List type from typing module for type hints\n",
    "\n",
    "def rotate_and_transform_matrix(mat: List[List[int]]) -> List[List[int]]:\n",
    "    # Define a function that rotates a square matrix 90 degrees clockwise\n",
    "    # and then transforms it based on the row and column sums of the rotated matrix.\n",
    "\n",
    "    size = len(mat)  # Get the size of the matrix (assuming it's square)\n",
    "\n",
    "    rotated = [[0] * size for _ in range(size)]  \n",
    "    # Initialize a new matrix of the same size with all elements set to 0 to store the rotated matrix.\n",
    "\n",
    "    # Rotate the matrix 90 degrees clockwise\n",
    "    for r in range(size):  \n",
    "        for c in range(size):\n",
    "            rotated[c][size - 1 - r] = mat[r][c]  \n",
    "            # Assign the value from `mat[r][c]` to the correct rotated position in `rotated`.\n",
    "\n",
    "    final = [[0] * size for _ in range(size)]  \n",
    "    # Initialize another matrix of the same size to store the transformed values.\n",
    "\n",
    "    # Calculate the transformed values based on row and column sums\n",
    "    for r in range(size):  \n",
    "        for c in range(size):\n",
    "            row_sum = sum(rotated[r]) - rotated[r][c]  \n",
    "            # Calculate the sum of the current row in `rotated`, excluding the current element.\n",
    "\n",
    "            col_sum = sum(rotated[k][c] for k in range(size)) - rotated[r][c]  \n",
    "            # Calculate the sum of the current column in `rotated`, excluding the current element.\n",
    "\n",
    "            final[r][c] = row_sum + col_sum  \n",
    "            # Set the value in `final` at [r][c] to be the sum of row_sum and col_sum.\n",
    "\n",
    "    return final  # Return the final transformed matrix.\n",
    "\n",
    "# Sample matrix to test the function\n",
    "matrix = [\n",
    "     [1, 2, 3],\n",
    "     [4, 5, 6],\n",
    "     [7, 8, 9]\n",
    "]\n",
    "\n",
    "final_matrix = rotate_and_transform_matrix(matrix)\n",
    "# Expected output: A transformed matrix after rotating and summing rows and columns.\n",
    "print(f\"final_matrix = {final_matrix}\")\n",
    "# Example output: [[16, 14, 12], [24, 22, 20], [32, 30, 28]]\n"
   ]
  },
  {
   "cell_type": "markdown",
   "id": "e7b03ae3-25e9-4c98-ab0a-4e27a2ab9e00",
   "metadata": {},
   "source": [
    "# Q8"
   ]
  },
  {
   "cell_type": "code",
   "execution_count": 12,
   "id": "04f6f377-b546-459e-b387-c0933c710b09",
   "metadata": {},
   "outputs": [
    {
     "name": "stdout",
     "output_type": "stream",
     "text": [
      "id       id_2    \n",
      "1014000  -1          True\n",
      "1014002  -1          True\n",
      "1014003  -1          True\n",
      "1030000  -1          True\n",
      "          1030002    True\n",
      "                     ... \n",
      "1330016   1330006    True\n",
      "          1330008    True\n",
      "          1330010    True\n",
      "          1330012    True\n",
      "          1330014    True\n",
      "Length: 9254, dtype: bool\n"
     ]
    }
   ],
   "source": [
    "import pandas as pd  # Import the pandas library for data manipulation\n",
    "\n",
    "def time_check(df: pd.DataFrame) -> pd.Series:\n",
    "    # Define a function to check if each group of records in a DataFrame covers a 7-day range with full 24-hour coverage.\n",
    "    \n",
    "    date_format = \"%Y-%m-%d\"  # Define the date format used in the DataFrame.\n",
    "    time_format = \"%H:%M:%S\"  # Define the time format used in the DataFrame.\n",
    "\n",
    "    # Convert 'startDay' + 'startTime' and 'endDay' + 'endTime' to datetime for easier time calculations.\n",
    "    df['start'] = pd.to_datetime(df['startDay'] + ' ' + df['startTime'], format=f\"{date_format} {time_format}\", errors='coerce')\n",
    "    df['end'] = pd.to_datetime(df['endDay'] + ' ' + df['endTime'], format=f\"{date_format} {time_format}\", errors='coerce')\n",
    "\n",
    "    grouped = df.groupby(['id', 'id_2'])  \n",
    "    # Group the DataFrame by 'id' and 'id_2' to process records independently for each unique ID pair.\n",
    "\n",
    "    results = []  # Initialize a list to store results for each group.\n",
    "\n",
    "    starting_date = pd.Timestamp('2024-01-01')  \n",
    "    # Set a reference date from which to start checking each day in the 7-day range.\n",
    "\n",
    "    for (id_val, id_2_val), group in grouped:  \n",
    "        # Loop through each group, where `id_val` and `id_2_val` represent unique identifiers for the group.\n",
    "        \n",
    "        days_covered = set()  # Create a set to keep track of unique days covered in the 7-day range.\n",
    "\n",
    "        for day_offset in range(7):  \n",
    "            # Iterate over each day in the 7-day range.\n",
    "            \n",
    "            day_start = starting_date + pd.Timedelta(days=day_offset)  \n",
    "            # Calculate the start datetime of the current day in the 7-day range.\n",
    "            \n",
    "            day_end = day_start + pd.Timedelta(days=1) - pd.Timedelta(seconds=1)  \n",
    "            # Calculate the end datetime for the current day.\n",
    "\n",
    "            # Filter records within the current day and check for full-day coverage.\n",
    "            day_data = group[(group['start'] <= day_end) & (group['end'] >= day_start)]\n",
    "            \n",
    "            # Check if the day's data covers the entire day.\n",
    "            if not day_data.empty and (day_data['start'].min() <= day_start) and (day_data['end'].max() >= day_end):\n",
    "                days_covered.add(day_start.date())  # Add the covered day to the set.\n",
    "\n",
    "        all_days_covered = len(days_covered) == 7  # Check if all 7 days are covered.\n",
    "        full_24_hour_coverage = (group['end'].max() - group['start'].min()).total_seconds() >= 24 * 3600  \n",
    "        # Check if the total coverage is at least 24 hours across the records.\n",
    "\n",
    "        results.append((id_val, id_2_val, not (all_days_covered and full_24_hour_coverage)))  \n",
    "        # Append the result, indicating if there is incomplete 7-day, 24-hour coverage.\n",
    "\n",
    "    result_series = pd.Series({(id_val, id_2_val): incorrect for id_val, id_2_val, incorrect in results})  \n",
    "    # Convert the results list into a pandas Series for easy reference by 'id' and 'id_2'.\n",
    "\n",
    "    result_series.index = pd.MultiIndex.from_tuples(result_series.index, names=['id', 'id_2'])  \n",
    "    # Set a MultiIndex on the result Series with 'id' and 'id_2' as index levels.\n",
    "\n",
    "    return result_series  # Return the final Series with True/False results for each group.\n",
    "\n",
    "# Load sample data from 'dataset-1.csv' and test the function\n",
    "df = pd.read_csv('dataset-1.csv')\n",
    "print(time_check(df))\n",
    "# Expected output: a Series with indices as (id, id_2) pairs and boolean values indicating 7-day, 24-hour coverage status.\n"
   ]
  },
  {
   "cell_type": "code",
   "execution_count": null,
   "id": "d25123e6-f82e-45ff-94c5-dcaafac43ccd",
   "metadata": {},
   "outputs": [],
   "source": []
  }
 ],
 "metadata": {
  "kernelspec": {
   "display_name": "Python 3 (ipykernel)",
   "language": "python",
   "name": "python3"
  },
  "language_info": {
   "codemirror_mode": {
    "name": "ipython",
    "version": 3
   },
   "file_extension": ".py",
   "mimetype": "text/x-python",
   "name": "python",
   "nbconvert_exporter": "python",
   "pygments_lexer": "ipython3",
   "version": "3.11.7"
  }
 },
 "nbformat": 4,
 "nbformat_minor": 5
}
